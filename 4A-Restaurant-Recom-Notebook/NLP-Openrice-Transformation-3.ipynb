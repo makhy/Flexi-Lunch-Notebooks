{
 "cells": [
  {
   "cell_type": "code",
   "execution_count": 172,
   "metadata": {},
   "outputs": [],
   "source": [
    "import pandas as pd\n",
    "pd.set_option('max_colwidth', 20)\n",
    "import re"
   ]
  },
  {
   "cell_type": "code",
   "execution_count": 2,
   "metadata": {},
   "outputs": [],
   "source": [
    "df = pd.read_csv(\"Openrice_all_lunch.csv\", index_col = 0)"
   ]
  },
  {
   "cell_type": "code",
   "execution_count": 3,
   "metadata": {},
   "outputs": [
    {
     "data": {
      "text/html": [
       "<div>\n",
       "<style scoped>\n",
       "    .dataframe tbody tr th:only-of-type {\n",
       "        vertical-align: middle;\n",
       "    }\n",
       "\n",
       "    .dataframe tbody tr th {\n",
       "        vertical-align: top;\n",
       "    }\n",
       "\n",
       "    .dataframe thead th {\n",
       "        text-align: right;\n",
       "    }\n",
       "</style>\n",
       "<table border=\"1\" class=\"dataframe\">\n",
       "  <thead>\n",
       "    <tr style=\"text-align: right;\">\n",
       "      <th></th>\n",
       "      <th>District</th>\n",
       "      <th>Cuisine</th>\n",
       "      <th>Reviews</th>\n",
       "      <th>Restaurant_Name</th>\n",
       "      <th>Rating</th>\n",
       "      <th>Cost</th>\n",
       "      <th>Wait_Time</th>\n",
       "      <th>Restuaruant_Link</th>\n",
       "    </tr>\n",
       "  </thead>\n",
       "  <tbody>\n",
       "    <tr>\n",
       "      <th>0</th>\n",
       "      <td>Admiralty</td>\n",
       "      <td>American</td>\n",
       "      <td>I am a burger lover.Today, I need to work in A...</td>\n",
       "      <td>Shake Shack</td>\n",
       "      <td>4.8</td>\n",
       "      <td>140</td>\n",
       "      <td>0.0</td>\n",
       "      <td>www.openrice.com/en/hongkong/restaurant/admira...</td>\n",
       "    </tr>\n",
       "    <tr>\n",
       "      <th>1</th>\n",
       "      <td>Admiralty</td>\n",
       "      <td>American</td>\n",
       "      <td>Its a very famouly burger place in HK. Its qui...</td>\n",
       "      <td>Shake Shack</td>\n",
       "      <td>4.5</td>\n",
       "      <td>100</td>\n",
       "      <td>20.0</td>\n",
       "      <td>www.openrice.com/en/hongkong/restaurant/admira...</td>\n",
       "    </tr>\n",
       "    <tr>\n",
       "      <th>2</th>\n",
       "      <td>Admiralty</td>\n",
       "      <td>American</td>\n",
       "      <td>I have been to Commissary a couple of times fo...</td>\n",
       "      <td>Commissary</td>\n",
       "      <td>NaN</td>\n",
       "      <td>200</td>\n",
       "      <td>0.0</td>\n",
       "      <td>www.openrice.com/en/hongkong/restaurant/admira...</td>\n",
       "    </tr>\n",
       "    <tr>\n",
       "      <th>3</th>\n",
       "      <td>Admiralty</td>\n",
       "      <td>American</td>\n",
       "      <td>Commissary really has the right vibe for us. T...</td>\n",
       "      <td>Commissary</td>\n",
       "      <td>NaN</td>\n",
       "      <td>250</td>\n",
       "      <td>0.0</td>\n",
       "      <td>www.openrice.com/en/hongkong/restaurant/admira...</td>\n",
       "    </tr>\n",
       "    <tr>\n",
       "      <th>4</th>\n",
       "      <td>Admiralty</td>\n",
       "      <td>American</td>\n",
       "      <td>Love the ambiance and comfort food. Cozy space...</td>\n",
       "      <td>Commissary</td>\n",
       "      <td>3.7</td>\n",
       "      <td>170</td>\n",
       "      <td>0.0</td>\n",
       "      <td>www.openrice.com/en/hongkong/restaurant/admira...</td>\n",
       "    </tr>\n",
       "  </tbody>\n",
       "</table>\n",
       "</div>"
      ],
      "text/plain": [
       "    District   Cuisine                                            Reviews  \\\n",
       "0  Admiralty  American  I am a burger lover.Today, I need to work in A...   \n",
       "1  Admiralty  American  Its a very famouly burger place in HK. Its qui...   \n",
       "2  Admiralty  American  I have been to Commissary a couple of times fo...   \n",
       "3  Admiralty  American  Commissary really has the right vibe for us. T...   \n",
       "4  Admiralty  American  Love the ambiance and comfort food. Cozy space...   \n",
       "\n",
       "  Restaurant_Name  Rating  Cost  Wait_Time  \\\n",
       "0     Shake Shack     4.8   140        0.0   \n",
       "1     Shake Shack     4.5   100       20.0   \n",
       "2      Commissary     NaN   200        0.0   \n",
       "3      Commissary     NaN   250        0.0   \n",
       "4      Commissary     3.7   170        0.0   \n",
       "\n",
       "                                    Restuaruant_Link  \n",
       "0  www.openrice.com/en/hongkong/restaurant/admira...  \n",
       "1  www.openrice.com/en/hongkong/restaurant/admira...  \n",
       "2  www.openrice.com/en/hongkong/restaurant/admira...  \n",
       "3  www.openrice.com/en/hongkong/restaurant/admira...  \n",
       "4  www.openrice.com/en/hongkong/restaurant/admira...  "
      ]
     },
     "execution_count": 3,
     "metadata": {},
     "output_type": "execute_result"
    }
   ],
   "source": [
    "df.head()"
   ]
  },
  {
   "cell_type": "markdown",
   "metadata": {},
   "source": [
    "### Clean missing values"
   ]
  },
  {
   "cell_type": "code",
   "execution_count": 5,
   "metadata": {},
   "outputs": [],
   "source": [
    "df_c = df.dropna(subset=[\"Rating\",\"Restaurant_Name\"])"
   ]
  },
  {
   "cell_type": "code",
   "execution_count": 6,
   "metadata": {},
   "outputs": [
    {
     "data": {
      "text/plain": [
       "District              0\n",
       "Cuisine               0\n",
       "Reviews               0\n",
       "Restaurant_Name       0\n",
       "Rating                0\n",
       "Cost                  0\n",
       "Wait_Time           450\n",
       "Restuaruant_Link      0\n",
       "dtype: int64"
      ]
     },
     "execution_count": 6,
     "metadata": {},
     "output_type": "execute_result"
    }
   ],
   "source": [
    "df_c.isna().sum()"
   ]
  },
  {
   "cell_type": "markdown",
   "metadata": {},
   "source": [
    "### Add Restaurant ID"
   ]
  },
  {
   "cell_type": "code",
   "execution_count": 7,
   "metadata": {},
   "outputs": [],
   "source": [
    "# df[newIdName] = (df['LastName'] + '_' + df['FirstName']).astype('category').cat.codes\n",
    "# https://stackoverflow.com/questions/45685254/q-pandas-how-to-efficiently-assign-unique-id-to-individuals-with-multiple-ent\n",
    "\n",
    "# df_a = df_c[[\"District\",\"Reviews\", \"Restaurant_Name\",\"Rating\"]]\n",
    "# df_a.head()"
   ]
  },
  {
   "cell_type": "code",
   "execution_count": 8,
   "metadata": {},
   "outputs": [],
   "source": [
    "# df_a[\"Restaurant_ID\"] = (df_a[\"Restaurant_Name\"] + \"_\" + df_a[\"District\"]).astype(\"category\").cat.codes"
   ]
  },
  {
   "cell_type": "code",
   "execution_count": 9,
   "metadata": {
    "scrolled": true
   },
   "outputs": [],
   "source": [
    "# df_a.head(5)"
   ]
  },
  {
   "cell_type": "code",
   "execution_count": 10,
   "metadata": {},
   "outputs": [],
   "source": [
    "df_b = df_c"
   ]
  },
  {
   "cell_type": "code",
   "execution_count": 11,
   "metadata": {},
   "outputs": [],
   "source": [
    "# df_c_cut[\"Restaurant_ID\"].nunique()"
   ]
  },
  {
   "cell_type": "code",
   "execution_count": 12,
   "metadata": {},
   "outputs": [],
   "source": [
    "# df_a[\"Restaurant_ID\"].nunique()"
   ]
  },
  {
   "cell_type": "code",
   "execution_count": 13,
   "metadata": {},
   "outputs": [
    {
     "name": "stderr",
     "output_type": "stream",
     "text": [
      "/Users/makhy/anaconda3/lib/python3.7/site-packages/ipykernel_launcher.py:1: SettingWithCopyWarning: \n",
      "A value is trying to be set on a copy of a slice from a DataFrame.\n",
      "Try using .loc[row_indexer,col_indexer] = value instead\n",
      "\n",
      "See the caveats in the documentation: http://pandas.pydata.org/pandas-docs/stable/user_guide/indexing.html#returning-a-view-versus-a-copy\n",
      "  \"\"\"Entry point for launching an IPython kernel.\n"
     ]
    }
   ],
   "source": [
    "df_b[\"Restaurant_ID\"] = (df_b[\"Restaurant_Name\"] + \"_\" + df_b[\"District\"]).astype(\"category\").cat.codes"
   ]
  },
  {
   "cell_type": "code",
   "execution_count": 14,
   "metadata": {},
   "outputs": [
    {
     "data": {
      "text/html": [
       "<div>\n",
       "<style scoped>\n",
       "    .dataframe tbody tr th:only-of-type {\n",
       "        vertical-align: middle;\n",
       "    }\n",
       "\n",
       "    .dataframe tbody tr th {\n",
       "        vertical-align: top;\n",
       "    }\n",
       "\n",
       "    .dataframe thead th {\n",
       "        text-align: right;\n",
       "    }\n",
       "</style>\n",
       "<table border=\"1\" class=\"dataframe\">\n",
       "  <thead>\n",
       "    <tr style=\"text-align: right;\">\n",
       "      <th></th>\n",
       "      <th>District</th>\n",
       "      <th>Cuisine</th>\n",
       "      <th>Reviews</th>\n",
       "      <th>Restaurant_Name</th>\n",
       "      <th>Rating</th>\n",
       "      <th>Cost</th>\n",
       "      <th>Wait_Time</th>\n",
       "      <th>Restuaruant_Link</th>\n",
       "      <th>Restaurant_ID</th>\n",
       "    </tr>\n",
       "  </thead>\n",
       "  <tbody>\n",
       "    <tr>\n",
       "      <th>0</th>\n",
       "      <td>Admiralty</td>\n",
       "      <td>American</td>\n",
       "      <td>I am a burger lover.Today, I need to work in A...</td>\n",
       "      <td>Shake Shack</td>\n",
       "      <td>4.8</td>\n",
       "      <td>140</td>\n",
       "      <td>0.0</td>\n",
       "      <td>www.openrice.com/en/hongkong/restaurant/admira...</td>\n",
       "      <td>609</td>\n",
       "    </tr>\n",
       "    <tr>\n",
       "      <th>1</th>\n",
       "      <td>Admiralty</td>\n",
       "      <td>American</td>\n",
       "      <td>Its a very famouly burger place in HK. Its qui...</td>\n",
       "      <td>Shake Shack</td>\n",
       "      <td>4.5</td>\n",
       "      <td>100</td>\n",
       "      <td>20.0</td>\n",
       "      <td>www.openrice.com/en/hongkong/restaurant/admira...</td>\n",
       "      <td>609</td>\n",
       "    </tr>\n",
       "    <tr>\n",
       "      <th>4</th>\n",
       "      <td>Admiralty</td>\n",
       "      <td>American</td>\n",
       "      <td>Love the ambiance and comfort food. Cozy space...</td>\n",
       "      <td>Commissary</td>\n",
       "      <td>3.7</td>\n",
       "      <td>170</td>\n",
       "      <td>0.0</td>\n",
       "      <td>www.openrice.com/en/hongkong/restaurant/admira...</td>\n",
       "      <td>138</td>\n",
       "    </tr>\n",
       "    <tr>\n",
       "      <th>5</th>\n",
       "      <td>Admiralty</td>\n",
       "      <td>American</td>\n",
       "      <td>I'm an old fashioned person who enjoys old fas...</td>\n",
       "      <td>Ruth's Chris Steak House</td>\n",
       "      <td>3.8</td>\n",
       "      <td>350</td>\n",
       "      <td>NaN</td>\n",
       "      <td>www.openrice.com/en/hongkong/restaurant/admira...</td>\n",
       "      <td>584</td>\n",
       "    </tr>\n",
       "    <tr>\n",
       "      <th>6</th>\n",
       "      <td>Admiralty</td>\n",
       "      <td>American</td>\n",
       "      <td>Our China colleague came, and we dined out tog...</td>\n",
       "      <td>Commissary</td>\n",
       "      <td>3.2</td>\n",
       "      <td>180</td>\n",
       "      <td>0.0</td>\n",
       "      <td>www.openrice.com/en/hongkong/restaurant/admira...</td>\n",
       "      <td>138</td>\n",
       "    </tr>\n",
       "  </tbody>\n",
       "</table>\n",
       "</div>"
      ],
      "text/plain": [
       "    District   Cuisine                                            Reviews  \\\n",
       "0  Admiralty  American  I am a burger lover.Today, I need to work in A...   \n",
       "1  Admiralty  American  Its a very famouly burger place in HK. Its qui...   \n",
       "4  Admiralty  American  Love the ambiance and comfort food. Cozy space...   \n",
       "5  Admiralty  American  I'm an old fashioned person who enjoys old fas...   \n",
       "6  Admiralty  American  Our China colleague came, and we dined out tog...   \n",
       "\n",
       "            Restaurant_Name  Rating  Cost  Wait_Time  \\\n",
       "0               Shake Shack     4.8   140        0.0   \n",
       "1               Shake Shack     4.5   100       20.0   \n",
       "4                Commissary     3.7   170        0.0   \n",
       "5  Ruth's Chris Steak House     3.8   350        NaN   \n",
       "6                Commissary     3.2   180        0.0   \n",
       "\n",
       "                                    Restuaruant_Link  Restaurant_ID  \n",
       "0  www.openrice.com/en/hongkong/restaurant/admira...            609  \n",
       "1  www.openrice.com/en/hongkong/restaurant/admira...            609  \n",
       "4  www.openrice.com/en/hongkong/restaurant/admira...            138  \n",
       "5  www.openrice.com/en/hongkong/restaurant/admira...            584  \n",
       "6  www.openrice.com/en/hongkong/restaurant/admira...            138  "
      ]
     },
     "execution_count": 14,
     "metadata": {},
     "output_type": "execute_result"
    }
   ],
   "source": [
    "df_b.head()"
   ]
  },
  {
   "cell_type": "markdown",
   "metadata": {},
   "source": [
    "### Group by Restaurant ID"
   ]
  },
  {
   "cell_type": "code",
   "execution_count": 201,
   "metadata": {},
   "outputs": [],
   "source": [
    "# https://stackoverflow.com/questions/14529838/apply-multiple-functions-to-multiple-groupby-columns\n",
    "\n",
    "def f(x):\n",
    "    d = {}\n",
    "    d[\"Restaurant_Name\"] = x[\"Restaurant_Name\"].unique()[0]\n",
    "    d[\"District\"] = x[\"District\"].unique()[0]\n",
    "    d[\"Cuisine\"] = x[\"Cuisine\"].unique()[0]\n",
    "    d[\"Rating_Average\"] = round(x[\"Rating\"].mean(),1)\n",
    "    d[\"Cost_Average\"] = round(x[\"Cost\"].mean(),1)\n",
    "    d[\"Wait_Average\"] = round(x[\"Wait_Time\"].mean(),0)\n",
    "#     d[\"Reviews\"] = x[\"Reviews\"].agg(lambda col: ''.join(col)).reset_index()\n",
    "#     d[\"Reviews\"] = x[\"Reviews\"].agg(\"sum\")\n",
    "    d[\"Reviews\"] = str(x[\"Reviews\"].agg(lambda x: x.tolist())).strip()[2:-1]\n",
    "#     d[\"Reviews\"] = str(x[\"Reviews\"].agg(''.join))\n",
    "    d[\"Restaurant_Link\"] = x[\"Restuaruant_Link\"].unique()[0]\n",
    "#     d[\"Count\"] = x[\"Reviews\"].value_counts()\n",
    "    return pd.Series(d, index = [\"Restaurant_Name\",\"District\", \"Cuisine\",\n",
    "                                 \"Rating_Average\",\"Cost_Average\", \n",
    "                                 \"Wait_Average\",\"Reviews\",\n",
    "                                 \"Restaurant_Link\"])"
   ]
  },
  {
   "cell_type": "code",
   "execution_count": 202,
   "metadata": {},
   "outputs": [],
   "source": [
    "# df_all = df_b.groupby(\"Restaurant_ID\").apply(f)\n",
    "df_all_new = df_b.groupby(\"Restaurant_ID\").apply(f)"
   ]
  },
  {
   "cell_type": "code",
   "execution_count": 203,
   "metadata": {},
   "outputs": [
    {
     "data": {
      "text/html": [
       "<div>\n",
       "<style scoped>\n",
       "    .dataframe tbody tr th:only-of-type {\n",
       "        vertical-align: middle;\n",
       "    }\n",
       "\n",
       "    .dataframe tbody tr th {\n",
       "        vertical-align: top;\n",
       "    }\n",
       "\n",
       "    .dataframe thead th {\n",
       "        text-align: right;\n",
       "    }\n",
       "</style>\n",
       "<table border=\"1\" class=\"dataframe\">\n",
       "  <thead>\n",
       "    <tr style=\"text-align: right;\">\n",
       "      <th></th>\n",
       "      <th>Restaurant_Name</th>\n",
       "      <th>District</th>\n",
       "      <th>Cuisine</th>\n",
       "      <th>Rating_Average</th>\n",
       "      <th>Cost_Average</th>\n",
       "      <th>Wait_Average</th>\n",
       "      <th>Reviews</th>\n",
       "      <th>Restaurant_Link</th>\n",
       "    </tr>\n",
       "    <tr>\n",
       "      <th>Restaurant_ID</th>\n",
       "      <th></th>\n",
       "      <th></th>\n",
       "      <th></th>\n",
       "      <th></th>\n",
       "      <th></th>\n",
       "      <th></th>\n",
       "      <th></th>\n",
       "      <th></th>\n",
       "    </tr>\n",
       "  </thead>\n",
       "  <tbody>\n",
       "    <tr>\n",
       "      <th>0</th>\n",
       "      <td>CHIRASHI</td>\n",
       "      <td>Wan Chai</td>\n",
       "      <td>Japanese</td>\n",
       "      <td>3.7</td>\n",
       "      <td>488.0</td>\n",
       "      <td>0.0</td>\n",
       "      <td>0Chirashi is a p...</td>\n",
       "      <td>www.openrice.com...</td>\n",
       "    </tr>\n",
       "    <tr>\n",
       "      <th>1</th>\n",
       "      <td>X</td>\n",
       "      <td>Causeway Bay</td>\n",
       "      <td>Chinese</td>\n",
       "      <td>3.6</td>\n",
       "      <td>60.0</td>\n",
       "      <td>0.0</td>\n",
       "      <td>There are a numb...</td>\n",
       "      <td>www.openrice.com...</td>\n",
       "    </tr>\n",
       "    <tr>\n",
       "      <th>2</th>\n",
       "      <td>10 Shanghai</td>\n",
       "      <td>Causeway Bay</td>\n",
       "      <td>Chinese</td>\n",
       "      <td>3.2</td>\n",
       "      <td>120.0</td>\n",
       "      <td>NaN</td>\n",
       "      <td>1957 &amp; Company (...</td>\n",
       "      <td>www.openrice.com...</td>\n",
       "    </tr>\n",
       "    <tr>\n",
       "      <th>3</th>\n",
       "      <td>1935 Restaurant</td>\n",
       "      <td>Central</td>\n",
       "      <td>Chinese</td>\n",
       "      <td>4.8</td>\n",
       "      <td>270.0</td>\n",
       "      <td>NaN</td>\n",
       "      <td>The food is deli...</td>\n",
       "      <td>www.openrice.com...</td>\n",
       "    </tr>\n",
       "    <tr>\n",
       "      <th>4</th>\n",
       "      <td>1963</td>\n",
       "      <td>Wan Chai</td>\n",
       "      <td>Chinese</td>\n",
       "      <td>3.6</td>\n",
       "      <td>113.3</td>\n",
       "      <td>2.0</td>\n",
       "      <td>00This shop in W...</td>\n",
       "      <td>www.openrice.com...</td>\n",
       "    </tr>\n",
       "    <tr>\n",
       "      <th>5</th>\n",
       "      <td>2/3 Dolci</td>\n",
       "      <td>Causeway Bay</td>\n",
       "      <td>Italian</td>\n",
       "      <td>3.5</td>\n",
       "      <td>200.0</td>\n",
       "      <td>NaN</td>\n",
       "      <td>Dolci (n.) - Swe...</td>\n",
       "      <td>www.openrice.com...</td>\n",
       "    </tr>\n",
       "    <tr>\n",
       "      <th>6</th>\n",
       "      <td>298 Nikuya Room</td>\n",
       "      <td>Central</td>\n",
       "      <td>Japanese</td>\n",
       "      <td>4.6</td>\n",
       "      <td>315.0</td>\n",
       "      <td>0.0</td>\n",
       "      <td>Suddenly craved ...</td>\n",
       "      <td>www.openrice.com...</td>\n",
       "    </tr>\n",
       "    <tr>\n",
       "      <th>7</th>\n",
       "      <td>3.6.9. Restauran...</td>\n",
       "      <td>Wan Chai</td>\n",
       "      <td>Chinese</td>\n",
       "      <td>3.1</td>\n",
       "      <td>55.0</td>\n",
       "      <td>0.0</td>\n",
       "      <td>As boyfriend and...</td>\n",
       "      <td>www.openrice.com...</td>\n",
       "    </tr>\n",
       "    <tr>\n",
       "      <th>8</th>\n",
       "      <td>33. Kyoto</td>\n",
       "      <td>Wan Chai</td>\n",
       "      <td>Japanese</td>\n",
       "      <td>3.8</td>\n",
       "      <td>58.5</td>\n",
       "      <td>0.0</td>\n",
       "      <td>With so many bur...</td>\n",
       "      <td>www.openrice.com...</td>\n",
       "    </tr>\n",
       "    <tr>\n",
       "      <th>9</th>\n",
       "      <td>5019 Premium Fac...</td>\n",
       "      <td>Causeway Bay</td>\n",
       "      <td>Japanese</td>\n",
       "      <td>2.5</td>\n",
       "      <td>105.0</td>\n",
       "      <td>0.0</td>\n",
       "      <td>My last visit wa...</td>\n",
       "      <td>www.openrice.com...</td>\n",
       "    </tr>\n",
       "    <tr>\n",
       "      <th>10</th>\n",
       "      <td>5019 Premium Fac...</td>\n",
       "      <td>Central</td>\n",
       "      <td>Japanese</td>\n",
       "      <td>3.8</td>\n",
       "      <td>144.8</td>\n",
       "      <td>0.0</td>\n",
       "      <td>5019 Premium Fac...</td>\n",
       "      <td>www.openrice.com...</td>\n",
       "    </tr>\n",
       "    <tr>\n",
       "      <th>11</th>\n",
       "      <td>616</td>\n",
       "      <td>Causeway Bay</td>\n",
       "      <td>Chinese</td>\n",
       "      <td>3.7</td>\n",
       "      <td>50.0</td>\n",
       "      <td>0.0</td>\n",
       "      <td>616 is a hot pot...</td>\n",
       "      <td>www.openrice.com...</td>\n",
       "    </tr>\n",
       "    <tr>\n",
       "      <th>12</th>\n",
       "      <td>8 Otto e Mezzo B...</td>\n",
       "      <td>Central</td>\n",
       "      <td>Italian</td>\n",
       "      <td>3.8</td>\n",
       "      <td>761.3</td>\n",
       "      <td>0.0</td>\n",
       "      <td>It was our secon...</td>\n",
       "      <td>www.openrice.com...</td>\n",
       "    </tr>\n",
       "    <tr>\n",
       "      <th>13</th>\n",
       "      <td>85 South</td>\n",
       "      <td>Central</td>\n",
       "      <td>American</td>\n",
       "      <td>4.5</td>\n",
       "      <td>125.0</td>\n",
       "      <td>0.0</td>\n",
       "      <td>One hot Saturday...</td>\n",
       "      <td>www.openrice.com...</td>\n",
       "    </tr>\n",
       "    <tr>\n",
       "      <th>14</th>\n",
       "      <td>A Happy Pancake</td>\n",
       "      <td>Causeway Bay</td>\n",
       "      <td>Japanese</td>\n",
       "      <td>4.0</td>\n",
       "      <td>127.8</td>\n",
       "      <td>25.0</td>\n",
       "      <td>- $ 1150 - $ 11...</td>\n",
       "      <td>www.openrice.com...</td>\n",
       "    </tr>\n",
       "    <tr>\n",
       "      <th>15</th>\n",
       "      <td>AMMO</td>\n",
       "      <td>Admiralty</td>\n",
       "      <td>Italian</td>\n",
       "      <td>3.7</td>\n",
       "      <td>276.4</td>\n",
       "      <td>1.0</td>\n",
       "      <td>It's always not ...</td>\n",
       "      <td>www.openrice.com...</td>\n",
       "    </tr>\n",
       "    <tr>\n",
       "      <th>16</th>\n",
       "      <td>ASAP As Simple A...</td>\n",
       "      <td>Causeway Bay</td>\n",
       "      <td>Japanese</td>\n",
       "      <td>4.2</td>\n",
       "      <td>76.0</td>\n",
       "      <td>0.0</td>\n",
       "      <td>This shop is rec...</td>\n",
       "      <td>www.openrice.com...</td>\n",
       "    </tr>\n",
       "    <tr>\n",
       "      <th>17</th>\n",
       "      <td>Ada</td>\n",
       "      <td>Wan Chai</td>\n",
       "      <td>Chinese</td>\n",
       "      <td>2.7</td>\n",
       "      <td>21.0</td>\n",
       "      <td>NaN</td>\n",
       "      <td>it's the one tha...</td>\n",
       "      <td>www.openrice.com...</td>\n",
       "    </tr>\n",
       "    <tr>\n",
       "      <th>18</th>\n",
       "      <td>Agehan</td>\n",
       "      <td>Central</td>\n",
       "      <td>Japanese</td>\n",
       "      <td>3.2</td>\n",
       "      <td>200.0</td>\n",
       "      <td>0.0</td>\n",
       "      <td>Needed a quick l...</td>\n",
       "      <td>www.openrice.com...</td>\n",
       "    </tr>\n",
       "    <tr>\n",
       "      <th>19</th>\n",
       "      <td>Ajitomi</td>\n",
       "      <td>Causeway Bay</td>\n",
       "      <td>Japanese</td>\n",
       "      <td>4.0</td>\n",
       "      <td>115.0</td>\n",
       "      <td>0.0</td>\n",
       "      <td>unlike any othe...</td>\n",
       "      <td>www.openrice.com...</td>\n",
       "    </tr>\n",
       "  </tbody>\n",
       "</table>\n",
       "</div>"
      ],
      "text/plain": [
       "                   Restaurant_Name      District   Cuisine  Rating_Average  \\\n",
       "Restaurant_ID                                                                \n",
       "0                         CHIRASHI      Wan Chai  Japanese             3.7   \n",
       "1                               X   Causeway Bay   Chinese             3.6   \n",
       "2                      10 Shanghai  Causeway Bay   Chinese             3.2   \n",
       "3                  1935 Restaurant       Central   Chinese             4.8   \n",
       "4                            1963       Wan Chai   Chinese             3.6   \n",
       "5                        2/3 Dolci  Causeway Bay   Italian             3.5   \n",
       "6                  298 Nikuya Room       Central  Japanese             4.6   \n",
       "7              3.6.9. Restauran...      Wan Chai   Chinese             3.1   \n",
       "8                        33. Kyoto      Wan Chai  Japanese             3.8   \n",
       "9              5019 Premium Fac...  Causeway Bay  Japanese             2.5   \n",
       "10             5019 Premium Fac...       Central  Japanese             3.8   \n",
       "11                             616  Causeway Bay   Chinese             3.7   \n",
       "12             8 Otto e Mezzo B...       Central   Italian             3.8   \n",
       "13                        85 South       Central  American             4.5   \n",
       "14                 A Happy Pancake  Causeway Bay  Japanese             4.0   \n",
       "15                            AMMO     Admiralty   Italian             3.7   \n",
       "16             ASAP As Simple A...  Causeway Bay  Japanese             4.2   \n",
       "17                            Ada       Wan Chai   Chinese             2.7   \n",
       "18                          Agehan       Central  Japanese             3.2   \n",
       "19                         Ajitomi  Causeway Bay  Japanese             4.0   \n",
       "\n",
       "               Cost_Average  Wait_Average              Reviews  \\\n",
       "Restaurant_ID                                                    \n",
       "0                     488.0           0.0  0Chirashi is a p...   \n",
       "1                      60.0           0.0  There are a numb...   \n",
       "2                     120.0           NaN  1957 & Company (...   \n",
       "3                     270.0           NaN  The food is deli...   \n",
       "4                     113.3           2.0  00This shop in W...   \n",
       "5                     200.0           NaN  Dolci (n.) - Swe...   \n",
       "6                     315.0           0.0  Suddenly craved ...   \n",
       "7                      55.0           0.0  As boyfriend and...   \n",
       "8                      58.5           0.0  With so many bur...   \n",
       "9                     105.0           0.0  My last visit wa...   \n",
       "10                    144.8           0.0  5019 Premium Fac...   \n",
       "11                     50.0           0.0  616 is a hot pot...   \n",
       "12                    761.3           0.0  It was our secon...   \n",
       "13                    125.0           0.0  One hot Saturday...   \n",
       "14                    127.8          25.0   - $ 1150 - $ 11...   \n",
       "15                    276.4           1.0  It's always not ...   \n",
       "16                     76.0           0.0  This shop is rec...   \n",
       "17                     21.0           NaN  it's the one tha...   \n",
       "18                    200.0           0.0  Needed a quick l...   \n",
       "19                    115.0           0.0   unlike any othe...   \n",
       "\n",
       "                   Restaurant_Link  \n",
       "Restaurant_ID                       \n",
       "0              www.openrice.com...  \n",
       "1              www.openrice.com...  \n",
       "2              www.openrice.com...  \n",
       "3              www.openrice.com...  \n",
       "4              www.openrice.com...  \n",
       "5              www.openrice.com...  \n",
       "6              www.openrice.com...  \n",
       "7              www.openrice.com...  \n",
       "8              www.openrice.com...  \n",
       "9              www.openrice.com...  \n",
       "10             www.openrice.com...  \n",
       "11             www.openrice.com...  \n",
       "12             www.openrice.com...  \n",
       "13             www.openrice.com...  \n",
       "14             www.openrice.com...  \n",
       "15             www.openrice.com...  \n",
       "16             www.openrice.com...  \n",
       "17             www.openrice.com...  \n",
       "18             www.openrice.com...  \n",
       "19             www.openrice.com...  "
      ]
     },
     "execution_count": 203,
     "metadata": {},
     "output_type": "execute_result"
    }
   ],
   "source": [
    "df_all_new.head(20)"
   ]
  },
  {
   "cell_type": "code",
   "execution_count": 162,
   "metadata": {},
   "outputs": [],
   "source": [
    "# text_test_1 = df_all[\"Reviews_1\"][12]"
   ]
  },
  {
   "cell_type": "code",
   "execution_count": 205,
   "metadata": {},
   "outputs": [],
   "source": [
    "text_test = df_all_new[\"Reviews\"][12]"
   ]
  },
  {
   "cell_type": "code",
   "execution_count": 128,
   "metadata": {},
   "outputs": [
    {
     "data": {
      "text/plain": [
       "'www.openrice.com/en/hongkong/restaurant/causeway-bay-%E6%A3%8B%E5%93%A5%E7%87%92%E9%B5%9D-x-%E7%82%AF%E8%A8%98%E9%A4%90%E5%AE%A4/588528?tc=rvw2&con=rvw'"
      ]
     },
     "execution_count": 128,
     "metadata": {},
     "output_type": "execute_result"
    }
   ],
   "source": [
    "df_all[\"Restaurant_Link\"][1]"
   ]
  },
  {
   "cell_type": "code",
   "execution_count": 206,
   "metadata": {},
   "outputs": [
    {
     "name": "stdout",
     "output_type": "stream",
     "text": [
      "It was our second visit. Our first visit about a few years ago hadn't given us a very impressive impression but we had just ordered a few items from their a la carte menu so we thought maybe it was a time for a re-visit and for trying their set lunch menu.A window-side table had been reserved quite a while ago during weekday lunch.Lunch Menu1Lunch MenuLunch Menu0Lunch MenuLunch Menu0Lunch MenuLunch Menu0Lunch MenuIt seemed that after a few years their a la carte menu looked pretty much the same. I still remembered that we had tried Marinated Tuna Tartare which was quite good while their Baby Lamb from Aveyron and Short Rib & Beef Tenderloin were nothing outstanding especially the former.Set Lunch Menu1Set Lunch MenuThere were two lunch sets: 4 courses including appetizer, pasta, main and dessert or cheese at $1080+10% and 3 courses with either pasta or main at your choice and everything else the same at $780+10%. As we were not so hungry, we decided to go for the 3-course lunch set.Bread basket with olive oil & vinegar0Bread basket with olive oil & vinegarVery soon, a bread basket was served to us with olive oil & vinegar already waiting on our desk. There was no introduction of the bread.The bread was served warm with very crispy and thin crust and pretty soft and airy interior. They went great with vinegar which was sour and slightly sweet. I didn't like the olive oil which was kindly served to me by a server pouring it onto a small plate near the plate for the bread. Quite a waste because most was untouched.The cheese stick and the thin crisp were both very crispy, with the former being very rich in cheese flavour.Amuse Bouche0Amuse BoucheThe Amuse Bouche seemed to contain 3 starch balls with cheese and beetroot. The server did introduce to us that there were cheese and beetroot but we couldn't recall what the balls were made of. Taste- and texture-wise they seemed to be made from starch and they were totally TASTELESS! They were nothing comparable with Japanese chewy rice balls. The cheese flavour was very very weak and even the beetroot sauce was the same. The only good thing about the dish was probably the look. Quite disappointing indeed.Rye bread with olive oil & vinegar0Rye bread with olive oil & vinegarThe second bread basket was Rye bread. Again the bread was served warm and the crust was very thin and crispy while the interior was very soft and airy. Again it went great with the vinegar. You would soon know why we need to eat so much bread because the portion of the dishes was really quite small, except for the pasta.RRoasted Octopus with Roasted Artichoke, Aromatic Herbs Dressing...0RRoasted Octopus with Roasted Artichoke, Aromatic Herbs Dressing...Roasted Octopus with Roasted Artichoke, Aromatic Herbs DressingWe ordered both appetisers on the set lunch menu to share. The roasted octopus was ok in terms of texture which was not particularly chewy or tender but it didn't taste particularly fresh. The artichoke was very salty and a bit too rough. The dressing had nothing special. Overall, it was quite disappointing.Scallops in Bread Crust, Sweet Peas Emulsion, Black Truffle...1Scallops in Bread Crust, Sweet Peas Emulsion, Black Truffle...Scallops in Bread Crust, Sweet Peas Emulsion, Black TruffleThis appetiser was much better as the scallops were cooked quite well, with crusty crust made with bread and not fully cooked interior of the scallops. The sweet peas emulsion was ok, not particularly outstanding while the black truffle didn't smell or taste particularly nice either. It could have been even better in my humble opinion.The server had asked if we would like our main and pasta to be served together. It was really appreciated.Scampi Trenette with Datterino Tomato, Basil, Scampi Jus...1Scampi Trenette with Datterino Tomato, Basil, Scampi Jus...Scampi Trenette with Datterino Tomato, Basil, Scampi JusWe chose this over the other one because we didn't like vegetarian pasta much. The Trenette was really al dente, I would say it was of the perfect texture. The Scampi Jus was sufficiently rich and every piece of Trenette was well-flavoured by the Jus. For some reason I found it very slightly spicy which was quite good and appetising. The small Scampi pieces were fresh and crispy too. A very good pasta indeed but definitely not something you couldn't find elsewhere so I had discounted the rating a bit to give it 4 given the fame.Roasted Kinki Fish with Fennel and Tarragon Sauce0Roasted Kinki Fish with Fennel and Tarragon SauceRoasted Kinki Fish with Fennel and Tarragon SauceThe fish had crispy skin but except that there was really nothing special. The sauce was ok but nothing outstanding. The portion was extremely small. The fish was much smaller than my palm.Please note that there was no removal of the bread crusts from our table before the serving of our desserts.Warm Apple Puff with Vanilla Gelato, Caramel Apple Jam...0Warm Apple Puff with Vanilla Gelato, Caramel Apple Jam...Warm Apple Puff with Vanilla Gelato, Caramel Apple Jam...0Warm Apple Puff with Vanilla Gelato, Caramel Apple Jam...Warm Apple Puff with Vanilla Gelato, Caramel Apple JamThe apple puff was slightly warm with a slightly crispy crust. As it was just warm but not really warm enough, there was no particular pleasure to eat it together with the cold vanilla gelato, which was melting as you could tell.Almond Soup with Panna Cotta, Almond and Orange Blossom Gelato...0Almond Soup with Panna Cotta, Almond and Orange Blossom Gelato...Almond Soup with Panna Cotta, Almond and Orange Blossom GelatoThe almond soup was very outstanding though. First of all, it was really special, somewhat like Chinese sweet soup. It was sweet, maybe a bit too sweet to too many people but I liked it, and cold with strong aroma of almond. There were some nuts added to enhance the texture of the sweet soup. You could also break the thin sugar coating on top to add further crispy texture. The gelato wasn't particularly rich in orange blossom though. The best dish of the meal, overall.There was no Petit fours or coffee/tea included in the lunch set.Interior decoration was not particularly outstanding with pretty low ceilings. It was quite full on a weekday for lunch and there was not much privacy although it was quiet enough for a nice chat. Not really a place for special event I would say. The view of the window seats was nothing spectacular just overlooking Mandarin Oriental Hotel and office buildings. Service was ok but it could have been better, e.g. my cup of water was often empty.One point to note was that we did happen to see Chef Umberto Bombana running around throughout our meal.As a 3 Michelin star restaurant, I must say this dining experience was pretty disappointing. At this price, there were definitely better choices at the same district at a similar price with better environment and privacy and even food! I think our second visit would be pretty much the last visit.Let me attempt to compare this dining experience with those recent experiences at other top-notch Michelin restaurants:8 Otto e Mezzo BOMBANABread: 3Amuse Bouche: 1Appetisers: 2.5Pasta: 4.5Mains: 2.5Desserts: 4.5Environment: 3Seating: 3Service: 4Price: $860 for 3 courses for weekday lunch without petit fours or coffee/teaCapriceBread: 4Amuse Bouche: 4Appetisers: 3.5Soup: 4Fish: 3.5Meat: 4Desserts: 4Environment: 5Seating: 5Service: 4.5Price: $990 for 5 courses for weekday lunchhttps://www.openrice.com/zh/hongkong/review/nice-food-with-some-surprises-great-environment-e3265963Mandarin Bar + GrillBread: 3Amuse Bouche: 1Appetisers: 4Pasta: 2Meat: 4Desserts: 3Environment: 4Seating: 3 too close to another table for non-window seatsService: 4Price: $760 for 3 courses for weekday lunch without coffee/tea or petit fours (but with takeaway madeleine)https://www.openrice.com/zh/hongkong/review/%E9%A3%9F%E7%89%A9%E5%8F%83%E5%B7%AE-%E4%B8%8D%E5%80%BC-%E8%A9%A6%E9%81%8E%E5%B0%B1%E7%AE%97-e3218542Gaddi'sBread: 5Amuse Bouche: 4Appetisers: 3.5Meat: 4.5Desserts: 4.5Environment: 5Seating: 5Service: 4.5Price: $680 for 3 courses for weekday lunchhttps://www.openrice.com/zh/hongkong/review/better-food-and-service-after-a-year-e3293944L'Atelier de Jol RobuchonBread: 4Amuse Bouche: 5Appetisers: 3.5Soup: 5Meat: 3 One dish was great but another was a failureDesserts: 3.5Environment: 4Seating: 3Service: 4Price: $660 for 4 courses for weekday lunch. Great petit fours!https://www.openrice.com/zh/hongkong/review/%E9%87%8D%E8%87%A8%E7%B1%B3%E8%8A%9D%E8%93%AE%E4%B8%89%E6%98%9Fl-atelier-de-joel-robuchon-e2935289PetrusBread: 3Amuse Bouche: 2Appetisers: 4.5Soup: 4Fish: 5Chicken: 2Desserts: 2.5Environment: 5Seating: 5Service: 4.5Price: ~$700 for 4 courses for weekday lunch without coffee/tea. Great petit fours!https://www.openrice.com/zh/hongkong/review/revisit-after-a-year-e3284877\", \"After hanging out with family and friends for much of the festive holiday, I decided to take things a little slowly today. A late lunch just between the three of us was what I had in mind. I was trying hard to decide between Uncle Robuchon and chef Bombana but once I heard about L'Atelier de Jol Robuchon's children policy, it was pretty clear that 8 1/2 Otto e Mezzo Bombana would be the one we would be visiting this afternoon.0The good thing about chef Bombana's festive menu is that everything from starter to dessert is a simple choice between two selections. I think I can handle that.0Lunch started off brightly with the first starter of the afternoon, crispy langoustine. This tasted a little like our famous Chinese dish, salted egg yolk prawn () with the sweet little langoustine tightly coated with something like salty egg yolk on the outside. The citrus anchovy dressing was a very impressive addition to the mix and the small winter vegetable salad did well to balance the richness of the langoustine. Very nice start.Crispy langoustine, winter salad0Crispy langoustine, winter saladThe second starter turned out to be even better than my crispy langoustine. This beautifully decorated dish featuring Belon oyster and golden Beluga caviar was wonderfully complemented by a bit of Hokkaido crab meat and the seasoning with citrus and tarragon was ingenious.Belon oyster, golden Beluga caviar, Hokkaido crab meat, citrus and tarragon...0Belon oyster, golden Beluga caviar, Hokkaido crab meat, citrus and tarragon...For our pasta dish, we both went with their homemade maccheroni with blue lobster ragout and sea urchin. If you're looking for a perfect pasta in the city, you're looking at it right now. The bite of the maccheroni was absolutely perfect and the richness of the blue lobster and sea urchin proved to be the perfect match with the al dente pasta.Homemade maccheroni with blue lobster ragout and sea urchin...0Homemade maccheroni with blue lobster ragout and sea urchin...My meat course was Mayura beef tenderloin, served medium with beef cheek jus, artichoke, baby asparagus and an evil black truffle mash (not as evil as the one from Uncle Robuchon though). I thought the beef was grilled to absolute perfection and the rich beef cheek jus provided the picture-perfect finishing touch. This was really succulent and mouthwatering.Mayura beef tenderloin, beef cheek jus, artichoke, baby asparagus and truffled mash...1Mayura beef tenderloin, beef cheek jus, artichoke, baby asparagus and truffled mash...Equally impressive was the baby lamb from Pyrenees, served two ways with aromatic herbs, black olive, barley and vegetables. This was another masterpiece.Baby lamb from Pyrenees, with aromatic herbs, black olive, barley and vegetables...1Baby lamb from Pyrenees, with aromatic herbs, black olive, barley and vegetables...I was a little curious with how they do with their desserts because based on their track records (OK, it's my personal experience), things have been a little inconsistent. But I was glad to report that those inconsistencies were a thing of the past now.The first of our two desserts was one for the chestnut lovers, with chestnut cake, chantilly and marron gelato. Pretty good.Chestnut cake, chantilly and marron gelato0Chestnut cake, chantilly and marron gelatoThe warm cherry tart with roasted cherries, chantilly and pistachio gelato was another solid offering. I particularly enjoyed the contrasting flavors and temperatures between the warm cherries and pistachio gelato.Warm cherry tart with roasted cherries, chantilly and pistachio gelato...0Warm cherry tart with roasted cherries, chantilly and pistachio gelato...I thought chef Bombana would be busy shaving white truffles in one of his overseas restaurants but obviously, I was wrong. He jokingly told me how BIG my nugget was getting and as usual, we shared a few laughs together.\", '8  Otto e Mezzo BOMBANA first opened up in Alexandra House on January 2010. Ever since its initial opening- this restaurant is still packed daily, to the rim. With a waiting list of 2-3 months (still)! If your lucky, there might be last minute reservations and you can score an exclusive seat inside. The restaurant is still littered with more Michelin Stars in the shortest amount of time! The third Michelin star finally arrived in December 2011- \"the Restaurant became the first and only Three Michelin Stars Italian restaurant outside Italy\". That is a some feat! One of the most decorated restaurant in the city! They even opened up a branch in Shanghai in 2012. A small bar lounge resides in the front, as you walk inside the lobby/lounge area- you arrive into a spacious, luxurious, bright, cosy, classic and comfortable dining room area. (There\\'s also private dining rooms). I\\'ve been here twice before but finally dined there for lunch, and finally got the chance to photograph and blog about it!!  Lucky me.Bread Basket0Bread BasketWe start with a nice fresh bread display! I had some of the crisp bread and bread sticks! The service is excellent...Well at that price (its expensive)...It better be! For lunch you can get a lunch set upwards of $700-$1000+ or a la carte. Most of the mains are all above $300!Artichoke Pasta0Artichoke PastaArtichoke Pasta...for the vegetarians! Will set you back $340. But I heard it was great! It smelled amazing.Lobster, Iberico Ham Salad0Lobster, Iberico Ham SaladFREE Lobster, Iberico Ham and Artichoke Salad.... This light salad among the desserts were on the house! The reason is a bit ...alarming. The sharp, saltiness of the iberico ham was great. The fresh, plump and tender lobster meat was perfectly seasoned! Nice.Sea Urchin, Lobster Cavatelli Pasta0Sea Urchin, Lobster Cavatelli PastaHomemade Cavatelli shellfish ragout and sea urchin sets you back $340 for lunch!! But it was every bit worth it. Juicy, plump lobster, with such a fresh tender piece of sea urchin. The seafood soup is delicious, decadent and rich. I loved the creamy, full flavour and texture from the cavatelli pasta! Perfect filling lunch.Lemon Souffle0Lemon SouffleThe Lemon Souffle (requires 20 min) and Lemon Ice Cream....This was soooo good! Light, airy and fluffy!! <3 Wish I ordered this.Petit Fours0Petit FoursPetit Fours! Walnut, pistachio cookies, milk chocolate with nuts, and a peach jelly cube!Modern Tiramisu1Modern TiramisuI ordered the Modern Tiramisu! I ordered the tiramisu which had been deconstructed from its usual form. It was made with mascarpone cream, coffee panna cotta, and creamy homemade ice cream, and some juicy bread pieces soaked in wine. It was great! Loved the lightness, creamyness and milkiness of it all!', 'funny thing is a few weeks before eating at otto, someone emailed me a critical article from SCMP last dec (www.scmp.com/lifestyle/food-wine/article/1373754/food-critic-andy-hayler-says-local-michelin-guide-gets-it-badly). andy hayler\\'s suspicion matches mine when i looked at the michelin list prior to the article...i brought it up here to emphasize my impression after eating there is already precautionary in not biased 1 way or the other. afterall, a self-respecting foodie will never be influenced by other reviews or critiques, or whether there are stars or not.1st, as expected, each dish is high priced w/o logical reasoning. 2nd, as expected, each dish is meticulously created & executed. 3rd, as expected, the food is tiny but tastes wonderful if u ignore the physical & price shortcomings! 4th, as expected, the place is comfy & the service is unimpeachable!but but, why did i feel like eating in a high class cafeteria? was it the mechanical demeaner of the staff, including bombana himself who happened to be chatting w/ staff at the front door just as we entered & who only made a polite nod to us? (that definitely is not italian warmth.) or was it the contemporary, oversized yet stone-cold interior & decor that alienate the italian culture?not only that, but but i did not sense, see or taste abundance of creativity nor wow factor in what we ate. as they say so often, the body beauty is there but w/o adorable soul!yes, the roast duck foie gras was tasty, the crab caviar salad was unusual yet plain, the king prawn chitarra was awesome in size, the veal agnolotti w/ black truffle was fantastic... everything is a foodie\\'s delight, except i saw little difference or distinction from a high end \"contemporary\" or \"california\" or \"fusion\" cuisine elsewhere in any major global city.if u have eaten at L\\'Atelier de Joel Robuchon, u know what i mean & u should be able to tell the difference too! so far in this hk match, french 1, italian 0!Supplementary Informationi gave a happy face only because it is laughable, not a happy meal! , !', 'This was our second visit to the 3-starred 8 1/2 Otto e Mezzo Bombana. The first thing we noticed upon our arrival was the fact that the staff looked much younger and less experienced than before. Perhaps the expansion to Shanghai has taken a chunk of experience away from the core here.Lunch was the usual 2-course or 3-course selection unless we want to go splurge with the a la carte menu. That had stayed pretty much the same since its debut.0 Confit of \"Taiyouren\" organic egg (Grade: 3/5)After a basket of bread, here came our appetizers first with a confit of \"Taiyouren\" organic egg. The onsen egg was met with a nice roman cauliflower emulsion and roasted herb bread to form a surprisingly rich combination of flavors.0 Octopus and lobster (Grade: 2.5/5)Another starter was a dish of sauted octopus and lobster. It had a bit of Mediterranean twist to it after the addition of an acquerello rice salad (which tasted very much like cous cous).I thought this was an average dish. The previous organic egg starter faired slightly better. 0After finishing up our appetizers, we sat back to relax while waiting for our main courses to arrive. But that seemed to be taking forever.More than half an hour has passed us by and we began to lose a bit of our patience. But we wanted to be polite so instead of calling our server over, we started playing around with our smartphones trying to get the waiting staff\\'s attention. That did not work at all so eventually we called someone over. Lamb medallion (Grade: 3/5)Finally our main courses did arrive. The lamb medallion served on braised salsify with mushroom and natural jus was tender enough but the combination with the sauce and sidedish did not make much headway.0Going back to the service for a moment, this was the worst pacing I have ever seen from any 3-star Michelin restaurant. And that was puzzling considering that we only had a 2-course lunch set, not a complicated 12-course degustation menu. Snapper with baby spinach (Grade: 2/5)At the first glance, I thought I was going to have fried egg white as my main course. However, when I looked a bit closer, it was actually a thin slice of snapper fish sitting on a bed of baby spinach and served with an orange, oregano and extra virgin olive oil dressing.Yes I remembered now - I did order snapper. In all honesty, I was a bit shocked with how thin they made the snapper and the taste just wasn\\'t particularly attractive.0After our main courses, we decided that we were not going to wait another 30 minutes for our dessert so we went for the bill instead.', 'Set lunch: Ham with Autumn SaladPumpkin Ravioli($330)Honey Vanilla Cheese Cake.(+$60)Excellent.The theme of my fantastic lunch is \"balance\".  All three courses featured interesting flavors or textures which by themselves threaten to overpower you, but are swiftly brought back in line by the other components of the dish.I wasn\\'t planning on writing a review, so there is only a photo of the dessert.Ham with Autumn SaladThe ham is some Spanish ham, not Iberico.  Slightly damp and by itself, salty.The salad contains a profusion of ingredients which I assume are seasonal, including quite a few fungi/mushrooms, leaves, nuts, and other shavings that I didn\\'t quite recognize.  By themselves, a hopeless jumble that is soggy and crunchy.But when you take the ham with the salad, you find that the meat provides a solid foundation.  Leaves are no longer bitter, fungi is no longer overpowering, the nuts are not as noticeable, and the ham is no longer just salty.  I wish I could explain further but it just ...works.Pumpkin RavioliWhen I saw the subheading for this item in the set menu I was worried.  \"Butter and Parmesan\".  Wouldn\\'t that make a super heavy pasta?  Pumpkin is not known to be a light vegetable.  The way the chef prepared the pumpkin was to beat it almost into a cream.  I didn\\'t notice the parmesan, but the butter made the pumpkin very smooth and yes, heavy.  But when I started to find the pasta weighing down my tongue, some surprise herb (mint? not quite) emerged from the dish and uplifted the texture.  It was gone in an instant, but it achieves the effect of making the ravioli creamy but not heavy.The portion is good.Honey Vanilla Cheese Cake with berry compote and mandarin sorbetAnother dazzler.  The sorbet and berry compote were very sour.  The cheese cake was solid and mildly sweet.  If you are the type of person who eats their dessert part by part, this is a failure.  But if you take the parts together, wow.  There is that balance again - the cheese cake is the bass supporting the soprano berries and alto sorbet.  Excellent value at $60 extra.DownsidesThere are, of course, negative aspects to be found in every restaurant.  In Hong Kong, quite often the training of the staff is lacking.  Otto e Mezzo is not an exception.While the staff are reasonably diligent in delivering courses, taking away dishes, and pointing you to the bathroom, they are not very attentive to other duties.  Refilling water, for example.  Also, simply because the wine glasses are large, does not mean you should pour a ton of wine into the glass.  You should only pour up to the widest level of the glass at the very maximum.  It is interesting how so many waiters fail this test.  The staff should also look out for customers raising their hands to call for whatever.ConclusionCompared to the standard of the food though, my misgivings at the service are really quite minor.  Do give this new restaurant a go.  I might even return in the near future to try their degustation.Honey Vanilla Cheese Cake0Honey Vanilla Cheese Cake'\n"
     ]
    }
   ],
   "source": [
    "print(text_test)"
   ]
  },
  {
   "cell_type": "code",
   "execution_count": 164,
   "metadata": {},
   "outputs": [
    {
     "name": "stdout",
     "output_type": "stream",
     "text": [
      "638    It was our second visit. Our first visit about...\n",
      "705    After hanging out with family and friends for ...\n",
      "766    8  Otto e Mezzo BOMBANA first opened up in Ale...\n",
      "771    funny thing is a few weeks before eating at ot...\n",
      "799    This was our second visit to the 3-starred 8 1...\n",
      "859    Set lunch: Ham with Autumn SaladPumpkin Raviol...\n",
      "Name: Reviews, dtype: object\n"
     ]
    }
   ],
   "source": [
    "print(text_test_1)"
   ]
  },
  {
   "cell_type": "code",
   "execution_count": 158,
   "metadata": {},
   "outputs": [
    {
     "name": "stdout",
     "output_type": "stream",
     "text": [
      "[\"It was our second visit. Our first visit about a few years ago hadn't given us a very impressive impression but we had just ordered a few items from their a la carte menu so we thought maybe it was a time for a re-visit and for trying their set lunch menu.A window-side table had been reserved quite a while ago during weekday lunch.Lunch Menu1Lunch MenuLunch Menu0Lunch MenuLunch Menu0Lunch MenuLunch Menu0Lunch MenuIt seemed that after a few years their a la carte menu looked pretty much the same. I still remembered that we had tried Marinated Tuna Tartare which was quite good while their Baby Lamb from Aveyron and Short Rib & Beef Tenderloin were nothing outstanding especially the former.Set Lunch Menu1Set Lunch MenuThere were two lunch sets: 4 courses including appetizer, pasta, main and dessert or cheese at $1080+10% and 3 courses with either pasta or main at your choice and everything else the same at $780+10%. As we were not so hungry, we decided to go for the 3-course lunch set.Bread basket with olive oil & vinegar0Bread basket with olive oil & vinegarVery soon, a bread basket was served to us with olive oil & vinegar already waiting on our desk. There was no introduction of the bread.The bread was served warm with very crispy and thin crust and pretty soft and airy interior. They went great with vinegar which was sour and slightly sweet. I didn't like the olive oil which was kindly served to me by a server pouring it onto a small plate near the plate for the bread. Quite a waste because most was untouched.The cheese stick and the thin crisp were both very crispy, with the former being very rich in cheese flavour.Amuse Bouche0Amuse BoucheThe Amuse Bouche seemed to contain 3 starch balls with cheese and beetroot. The server did introduce to us that there were cheese and beetroot but we couldn't recall what the balls were made of. Taste- and texture-wise they seemed to be made from starch and they were totally TASTELESS! They were nothing comparable with Japanese chewy rice balls. The cheese flavour was very very weak and even the beetroot sauce was the same. The only good thing about the dish was probably the look. Quite disappointing indeed.Rye bread with olive oil & vinegar0Rye bread with olive oil & vinegarThe second bread basket was Rye bread. Again the bread was served warm and the crust was very thin and crispy while the interior was very soft and airy. Again it went great with the vinegar. You would soon know why we need to eat so much bread because the portion of the dishes was really quite small, except for the pasta.RRoasted Octopus with Roasted Artichoke, Aromatic Herbs Dressing...0RRoasted Octopus with Roasted Artichoke, Aromatic Herbs Dressing...Roasted Octopus with Roasted Artichoke, Aromatic Herbs DressingWe ordered both appetisers on the set lunch menu to share. The roasted octopus was ok in terms of texture which was not particularly chewy or tender but it didn't taste particularly fresh. The artichoke was very salty and a bit too rough. The dressing had nothing special. Overall, it was quite disappointing.Scallops in Bread Crust, Sweet Peas Emulsion, Black Truffle...1Scallops in Bread Crust, Sweet Peas Emulsion, Black Truffle...Scallops in Bread Crust, Sweet Peas Emulsion, Black TruffleThis appetiser was much better as the scallops were cooked quite well, with crusty crust made with bread and not fully cooked interior of the scallops. The sweet peas emulsion was ok, not particularly outstanding while the black truffle didn't smell or taste particularly nice either. It could have been even better in my humble opinion.The server had asked if we would like our main and pasta to be served together. It was really appreciated.Scampi Trenette with Datterino Tomato, Basil, Scampi Jus...1Scampi Trenette with Datterino Tomato, Basil, Scampi Jus...Scampi Trenette with Datterino Tomato, Basil, Scampi JusWe chose this over the other one because we didn't like vegetarian pasta much. The Trenette was really al dente, I would say it was of the perfect texture. The Scampi Jus was sufficiently rich and every piece of Trenette was well-flavoured by the Jus. For some reason I found it very slightly spicy which was quite good and appetising. The small Scampi pieces were fresh and crispy too. A very good pasta indeed but definitely not something you couldn't find elsewhere so I had discounted the rating a bit to give it 4 given the fame.Roasted Kinki Fish with Fennel and Tarragon Sauce0Roasted Kinki Fish with Fennel and Tarragon SauceRoasted Kinki Fish with Fennel and Tarragon SauceThe fish had crispy skin but except that there was really nothing special. The sauce was ok but nothing outstanding. The portion was extremely small. The fish was much smaller than my palm.Please note that there was no removal of the bread crusts from our table before the serving of our desserts.Warm Apple Puff with Vanilla Gelato, Caramel Apple Jam...0Warm Apple Puff with Vanilla Gelato, Caramel Apple Jam...Warm Apple Puff with Vanilla Gelato, Caramel Apple Jam...0Warm Apple Puff with Vanilla Gelato, Caramel Apple Jam...Warm Apple Puff with Vanilla Gelato, Caramel Apple JamThe apple puff was slightly warm with a slightly crispy crust. As it was just warm but not really warm enough, there was no particular pleasure to eat it together with the cold vanilla gelato, which was melting as you could tell.Almond Soup with Panna Cotta, Almond and Orange Blossom Gelato...0Almond Soup with Panna Cotta, Almond and Orange Blossom Gelato...Almond Soup with Panna Cotta, Almond and Orange Blossom GelatoThe almond soup was very outstanding though. First of all, it was really special, somewhat like Chinese sweet soup. It was sweet, maybe a bit too sweet to too many people but I liked it, and cold with strong aroma of almond. There were some nuts added to enhance the texture of the sweet soup. You could also break the thin sugar coating on top to add further crispy texture. The gelato wasn't particularly rich in orange blossom though. The best dish of the meal, overall.There was no Petit fours or coffee/tea included in the lunch set.Interior decoration was not particularly outstanding with pretty low ceilings. It was quite full on a weekday for lunch and there was not much privacy although it was quiet enough for a nice chat. Not really a place for special event I would say. The view of the window seats was nothing spectacular just overlooking Mandarin Oriental Hotel and office buildings. Service was ok but it could have been better, e.g. my cup of water was often empty.One point to note was that we did happen to see Chef Umberto Bombana running around throughout our meal.As a 3 Michelin star restaurant, I must say this dining experience was pretty disappointing. At this price, there were definitely better choices at the same district at a similar price with better environment and privacy and even food! I think our second visit would be pretty much the last visit.Let me attempt to compare this dining experience with those recent experiences at other top-notch Michelin restaurants:8 Otto e Mezzo BOMBANABread: 3Amuse Bouche: 1Appetisers: 2.5Pasta: 4.5Mains: 2.5Desserts: 4.5Environment: 3Seating: 3Service: 4Price: $860 for 3 courses for weekday lunch without petit fours or coffee/teaCapriceBread: 4Amuse Bouche: 4Appetisers: 3.5Soup: 4Fish: 3.5Meat: 4Desserts: 4Environment: 5Seating: 5Service: 4.5Price: $990 for 5 courses for weekday lunchhttps://www.openrice.com/zh/hongkong/review/nice-food-with-some-surprises-great-environment-e3265963Mandarin Bar + GrillBread: 3Amuse Bouche: 1Appetisers: 4Pasta: 2Meat: 4Desserts: 3Environment: 4Seating: 3 too close to another table for non-window seatsService: 4Price: $760 for 3 courses for weekday lunch without coffee/tea or petit fours (but with takeaway madeleine)https://www.openrice.com/zh/hongkong/review/%E9%A3%9F%E7%89%A9%E5%8F%83%E5%B7%AE-%E4%B8%8D%E5%80%BC-%E8%A9%A6%E9%81%8E%E5%B0%B1%E7%AE%97-e3218542Gaddi'sBread: 5Amuse Bouche: 4Appetisers: 3.5Meat: 4.5Desserts: 4.5Environment: 5Seating: 5Service: 4.5Price: $680 for 3 courses for weekday lunchhttps://www.openrice.com/zh/hongkong/review/better-food-and-service-after-a-year-e3293944L'Atelier de Jol RobuchonBread: 4Amuse Bouche: 5Appetisers: 3.5Soup: 5Meat: 3 One dish was great but another was a failureDesserts: 3.5Environment: 4Seating: 3Service: 4Price: $660 for 4 courses for weekday lunch. Great petit fours!https://www.openrice.com/zh/hongkong/review/%E9%87%8D%E8%87%A8%E7%B1%B3%E8%8A%9D%E8%93%AE%E4%B8%89%E6%98%9Fl-atelier-de-joel-robuchon-e2935289PetrusBread: 3Amuse Bouche: 2Appetisers: 4.5Soup: 4Fish: 5Chicken: 2Desserts: 2.5Environment: 5Seating: 5Service: 4.5Price: ~$700 for 4 courses for weekday lunch without coffee/tea. Great petit fours!https://www.openrice.com/zh/hongkong/review/revisit-after-a-year-e3284877\", \"After hanging out with family and friends for much of the festive holiday, I decided to take things a little slowly today. A late lunch just between the three of us was what I had in mind. I was trying hard to decide between Uncle Robuchon and chef Bombana but once I heard about L'Atelier de Jol Robuchon's children policy, it was pretty clear that 8 1/2 Otto e Mezzo Bombana would be the one we would be visiting this afternoon.0The good thing about chef Bombana's festive menu is that everything from starter to dessert is a simple choice between two selections. I think I can handle that.0Lunch started off brightly with the first starter of the afternoon, crispy langoustine. This tasted a little like our famous Chinese dish, salted egg yolk prawn () with the sweet little langoustine tightly coated with something like salty egg yolk on the outside. The citrus anchovy dressing was a very impressive addition to the mix and the small winter vegetable salad did well to balance the richness of the langoustine. Very nice start.Crispy langoustine, winter salad0Crispy langoustine, winter saladThe second starter turned out to be even better than my crispy langoustine. This beautifully decorated dish featuring Belon oyster and golden Beluga caviar was wonderfully complemented by a bit of Hokkaido crab meat and the seasoning with citrus and tarragon was ingenious.Belon oyster, golden Beluga caviar, Hokkaido crab meat, citrus and tarragon...0Belon oyster, golden Beluga caviar, Hokkaido crab meat, citrus and tarragon...For our pasta dish, we both went with their homemade maccheroni with blue lobster ragout and sea urchin. If you're looking for a perfect pasta in the city, you're looking at it right now. The bite of the maccheroni was absolutely perfect and the richness of the blue lobster and sea urchin proved to be the perfect match with the al dente pasta.Homemade maccheroni with blue lobster ragout and sea urchin...0Homemade maccheroni with blue lobster ragout and sea urchin...My meat course was Mayura beef tenderloin, served medium with beef cheek jus, artichoke, baby asparagus and an evil black truffle mash (not as evil as the one from Uncle Robuchon though). I thought the beef was grilled to absolute perfection and the rich beef cheek jus provided the picture-perfect finishing touch. This was really succulent and mouthwatering.Mayura beef tenderloin, beef cheek jus, artichoke, baby asparagus and truffled mash...1Mayura beef tenderloin, beef cheek jus, artichoke, baby asparagus and truffled mash...Equally impressive was the baby lamb from Pyrenees, served two ways with aromatic herbs, black olive, barley and vegetables. This was another masterpiece.Baby lamb from Pyrenees, with aromatic herbs, black olive, barley and vegetables...1Baby lamb from Pyrenees, with aromatic herbs, black olive, barley and vegetables...I was a little curious with how they do with their desserts because based on their track records (OK, it's my personal experience), things have been a little inconsistent. But I was glad to report that those inconsistencies were a thing of the past now.The first of our two desserts was one for the chestnut lovers, with chestnut cake, chantilly and marron gelato. Pretty good.Chestnut cake, chantilly and marron gelato0Chestnut cake, chantilly and marron gelatoThe warm cherry tart with roasted cherries, chantilly and pistachio gelato was another solid offering. I particularly enjoyed the contrasting flavors and temperatures between the warm cherries and pistachio gelato.Warm cherry tart with roasted cherries, chantilly and pistachio gelato...0Warm cherry tart with roasted cherries, chantilly and pistachio gelato...I thought chef Bombana would be busy shaving white truffles in one of his overseas restaurants but obviously, I was wrong. He jokingly told me how BIG my nugget was getting and as usual, we shared a few laughs together.\", '8  Otto e Mezzo BOMBANA first opened up in Alexandra House on January 2010. Ever since its initial opening- this restaurant is still packed daily, to the rim. With a waiting list of 2-3 months (still)! If your lucky, there might be last minute reservations and you can score an exclusive seat inside. The restaurant is still littered with more Michelin Stars in the shortest amount of time! The third Michelin star finally arrived in December 2011- \"the Restaurant became the first and only Three Michelin Stars Italian restaurant outside Italy\". That is a some feat! One of the most decorated restaurant in the city! They even opened up a branch in Shanghai in 2012. A small bar lounge resides in the front, as you walk inside the lobby/lounge area- you arrive into a spacious, luxurious, bright, cosy, classic and comfortable dining room area. (There\\'s also private dining rooms). I\\'ve been here twice before but finally dined there for lunch, and finally got the chance to photograph and blog about it!!  Lucky me.Bread Basket0Bread BasketWe start with a nice fresh bread display! I had some of the crisp bread and bread sticks! The service is excellent...Well at that price (its expensive)...It better be! For lunch you can get a lunch set upwards of $700-$1000+ or a la carte. Most of the mains are all above $300!Artichoke Pasta0Artichoke PastaArtichoke Pasta...for the vegetarians! Will set you back $340. But I heard it was great! It smelled amazing.Lobster, Iberico Ham Salad0Lobster, Iberico Ham SaladFREE Lobster, Iberico Ham and Artichoke Salad.... This light salad among the desserts were on the house! The reason is a bit ...alarming. The sharp, saltiness of the iberico ham was great. The fresh, plump and tender lobster meat was perfectly seasoned! Nice.Sea Urchin, Lobster Cavatelli Pasta0Sea Urchin, Lobster Cavatelli PastaHomemade Cavatelli shellfish ragout and sea urchin sets you back $340 for lunch!! But it was every bit worth it. Juicy, plump lobster, with such a fresh tender piece of sea urchin. The seafood soup is delicious, decadent and rich. I loved the creamy, full flavour and texture from the cavatelli pasta! Perfect filling lunch.Lemon Souffle0Lemon SouffleThe Lemon Souffle (requires 20 min) and Lemon Ice Cream....This was soooo good! Light, airy and fluffy!! <3 Wish I ordered this.Petit Fours0Petit FoursPetit Fours! Walnut, pistachio cookies, milk chocolate with nuts, and a peach jelly cube!Modern Tiramisu1Modern TiramisuI ordered the Modern Tiramisu! I ordered the tiramisu which had been deconstructed from its usual form. It was made with mascarpone cream, coffee panna cotta, and creamy homemade ice cream, and some juicy bread pieces soaked in wine. It was great! Loved the lightness, creamyness and milkiness of it all!', 'funny thing is a few weeks before eating at otto, someone emailed me a critical article from SCMP last dec (www.scmp.com/lifestyle/food-wine/article/1373754/food-critic-andy-hayler-says-local-michelin-guide-gets-it-badly). andy hayler\\'s suspicion matches mine when i looked at the michelin list prior to the article...i brought it up here to emphasize my impression after eating there is already precautionary in not biased 1 way or the other. afterall, a self-respecting foodie will never be influenced by other reviews or critiques, or whether there are stars or not.1st, as expected, each dish is high priced w/o logical reasoning. 2nd, as expected, each dish is meticulously created & executed. 3rd, as expected, the food is tiny but tastes wonderful if u ignore the physical & price shortcomings! 4th, as expected, the place is comfy & the service is unimpeachable!but but, why did i feel like eating in a high class cafeteria? was it the mechanical demeaner of the staff, including bombana himself who happened to be chatting w/ staff at the front door just as we entered & who only made a polite nod to us? (that definitely is not italian warmth.) or was it the contemporary, oversized yet stone-cold interior & decor that alienate the italian culture?not only that, but but i did not sense, see or taste abundance of creativity nor wow factor in what we ate. as they say so often, the body beauty is there but w/o adorable soul!yes, the roast duck foie gras was tasty, the crab caviar salad was unusual yet plain, the king prawn chitarra was awesome in size, the veal agnolotti w/ black truffle was fantastic... everything is a foodie\\'s delight, except i saw little difference or distinction from a high end \"contemporary\" or \"california\" or \"fusion\" cuisine elsewhere in any major global city.if u have eaten at L\\'Atelier de Joel Robuchon, u know what i mean & u should be able to tell the difference too! so far in this hk match, french 1, italian 0!Supplementary Informationi gave a happy face only because it is laughable, not a happy meal! , !', 'This was our second visit to the 3-starred 8 1/2 Otto e Mezzo Bombana. The first thing we noticed upon our arrival was the fact that the staff looked much younger and less experienced than before. Perhaps the expansion to Shanghai has taken a chunk of experience away from the core here.Lunch was the usual 2-course or 3-course selection unless we want to go splurge with the a la carte menu. That had stayed pretty much the same since its debut.0 Confit of \"Taiyouren\" organic egg (Grade: 3/5)After a basket of bread, here came our appetizers first with a confit of \"Taiyouren\" organic egg. The onsen egg was met with a nice roman cauliflower emulsion and roasted herb bread to form a surprisingly rich combination of flavors.0 Octopus and lobster (Grade: 2.5/5)Another starter was a dish of sauted octopus and lobster. It had a bit of Mediterranean twist to it after the addition of an acquerello rice salad (which tasted very much like cous cous).I thought this was an average dish. The previous organic egg starter faired slightly better. 0After finishing up our appetizers, we sat back to relax while waiting for our main courses to arrive. But that seemed to be taking forever.More than half an hour has passed us by and we began to lose a bit of our patience. But we wanted to be polite so instead of calling our server over, we started playing around with our smartphones trying to get the waiting staff\\'s attention. That did not work at all so eventually we called someone over. Lamb medallion (Grade: 3/5)Finally our main courses did arrive. The lamb medallion served on braised salsify with mushroom and natural jus was tender enough but the combination with the sauce and sidedish did not make much headway.0Going back to the service for a moment, this was the worst pacing I have ever seen from any 3-star Michelin restaurant. And that was puzzling considering that we only had a 2-course lunch set, not a complicated 12-course degustation menu. Snapper with baby spinach (Grade: 2/5)At the first glance, I thought I was going to have fried egg white as my main course. However, when I looked a bit closer, it was actually a thin slice of snapper fish sitting on a bed of baby spinach and served with an orange, oregano and extra virgin olive oil dressing.Yes I remembered now - I did order snapper. In all honesty, I was a bit shocked with how thin they made the snapper and the taste just wasn\\'t particularly attractive.0After our main courses, we decided that we were not going to wait another 30 minutes for our dessert so we went for the bill instead.', 'Set lunch: Ham with Autumn SaladPumpkin Ravioli($330)Honey Vanilla Cheese Cake.(+$60)Excellent.The theme of my fantastic lunch is \"balance\".  All three courses featured interesting flavors or textures which by themselves threaten to overpower you, but are swiftly brought back in line by the other components of the dish.I wasn\\'t planning on writing a review, so there is only a photo of the dessert.Ham with Autumn SaladThe ham is some Spanish ham, not Iberico.  Slightly damp and by itself, salty.The salad contains a profusion of ingredients which I assume are seasonal, including quite a few fungi/mushrooms, leaves, nuts, and other shavings that I didn\\'t quite recognize.  By themselves, a hopeless jumble that is soggy and crunchy.But when you take the ham with the salad, you find that the meat provides a solid foundation.  Leaves are no longer bitter, fungi is no longer overpowering, the nuts are not as noticeable, and the ham is no longer just salty.  I wish I could explain further but it just ...works.Pumpkin RavioliWhen I saw the subheading for this item in the set menu I was worried.  \"Butter and Parmesan\".  Wouldn\\'t that make a super heavy pasta?  Pumpkin is not known to be a light vegetable.  The way the chef prepared the pumpkin was to beat it almost into a cream.  I didn\\'t notice the parmesan, but the butter made the pumpkin very smooth and yes, heavy.  But when I started to find the pasta weighing down my tongue, some surprise herb (mint? not quite) emerged from the dish and uplifted the texture.  It was gone in an instant, but it achieves the effect of making the ravioli creamy but not heavy.The portion is good.Honey Vanilla Cheese Cake with berry compote and mandarin sorbetAnother dazzler.  The sorbet and berry compote were very sour.  The cheese cake was solid and mildly sweet.  If you are the type of person who eats their dessert part by part, this is a failure.  But if you take the parts together, wow.  There is that balance again - the cheese cake is the bass supporting the soprano berries and alto sorbet.  Excellent value at $60 extra.DownsidesThere are, of course, negative aspects to be found in every restaurant.  In Hong Kong, quite often the training of the staff is lacking.  Otto e Mezzo is not an exception.While the staff are reasonably diligent in delivering courses, taking away dishes, and pointing you to the bathroom, they are not very attentive to other duties.  Refilling water, for example.  Also, simply because the wine glasses are large, does not mean you should pour a ton of wine into the glass.  You should only pour up to the widest level of the glass at the very maximum.  It is interesting how so many waiters fail this test.  The staff should also look out for customers raising their hands to call for whatever.ConclusionCompared to the standard of the food though, my misgivings at the service are really quite minor.  Do give this new restaurant a go.  I might even return in the near future to try their degustation.Honey Vanilla Cheese Cake0Honey Vanilla Cheese Cake']\n"
     ]
    }
   ],
   "source": [
    "print(text_test_2)"
   ]
  },
  {
   "cell_type": "code",
   "execution_count": 168,
   "metadata": {},
   "outputs": [],
   "source": [
    "# df_all.to_csv(\"Openrice_trans_all.csv\")"
   ]
  },
  {
   "cell_type": "code",
   "execution_count": 207,
   "metadata": {},
   "outputs": [],
   "source": [
    "df_all_new.to_csv(\"Openrice_Transformed_V2.csv\")"
   ]
  }
 ],
 "metadata": {
  "kernelspec": {
   "display_name": "Python 3",
   "language": "python",
   "name": "python3"
  },
  "language_info": {
   "codemirror_mode": {
    "name": "ipython",
    "version": 3
   },
   "file_extension": ".py",
   "mimetype": "text/x-python",
   "name": "python",
   "nbconvert_exporter": "python",
   "pygments_lexer": "ipython3",
   "version": "3.7.3"
  }
 },
 "nbformat": 4,
 "nbformat_minor": 2
}
