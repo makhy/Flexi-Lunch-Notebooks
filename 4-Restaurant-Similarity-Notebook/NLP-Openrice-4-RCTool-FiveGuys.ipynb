{
 "cells": [
  {
   "cell_type": "code",
   "execution_count": 59,
   "metadata": {},
   "outputs": [],
   "source": [
    "import pandas as pd\n",
    "pd.set_option('max_colwidth', 30)\n",
    "import re\n",
    "import certifi\n",
    "import urllib3\n",
    "from nltk.tokenize import sent_tokenize, word_tokenize\n",
    "from nltk.corpus import stopwords\n",
    "from string import punctuation"
   ]
  },
  {
   "cell_type": "code",
   "execution_count": 2,
   "metadata": {},
   "outputs": [],
   "source": [
    "df = pd.read_csv(\"Openrice_Transformed_V2.csv\")"
   ]
  },
  {
   "cell_type": "code",
   "execution_count": 54,
   "metadata": {},
   "outputs": [
    {
     "data": {
      "text/html": [
       "<div>\n",
       "<style scoped>\n",
       "    .dataframe tbody tr th:only-of-type {\n",
       "        vertical-align: middle;\n",
       "    }\n",
       "\n",
       "    .dataframe tbody tr th {\n",
       "        vertical-align: top;\n",
       "    }\n",
       "\n",
       "    .dataframe thead th {\n",
       "        text-align: right;\n",
       "    }\n",
       "</style>\n",
       "<table border=\"1\" class=\"dataframe\">\n",
       "  <thead>\n",
       "    <tr style=\"text-align: right;\">\n",
       "      <th></th>\n",
       "      <th>Restaurant_ID</th>\n",
       "      <th>Restaurant_Name</th>\n",
       "      <th>District</th>\n",
       "      <th>Cuisine</th>\n",
       "      <th>Rating_Average</th>\n",
       "      <th>Cost_Average</th>\n",
       "      <th>Wait_Average</th>\n",
       "      <th>Reviews</th>\n",
       "      <th>Restaurant_Link</th>\n",
       "    </tr>\n",
       "  </thead>\n",
       "  <tbody>\n",
       "    <tr>\n",
       "      <th>0</th>\n",
       "      <td>0</td>\n",
       "      <td>CHIRASHI</td>\n",
       "      <td>Wan Chai</td>\n",
       "      <td>Japanese</td>\n",
       "      <td>3.7</td>\n",
       "      <td>488.0</td>\n",
       "      <td>0.0</td>\n",
       "      <td>0Chirashi is a p...</td>\n",
       "      <td>www.openrice.com...</td>\n",
       "    </tr>\n",
       "    <tr>\n",
       "      <th>1</th>\n",
       "      <td>1</td>\n",
       "      <td>X</td>\n",
       "      <td>Causeway Bay</td>\n",
       "      <td>Chinese</td>\n",
       "      <td>3.6</td>\n",
       "      <td>60.0</td>\n",
       "      <td>0.0</td>\n",
       "      <td>There are a numb...</td>\n",
       "      <td>www.openrice.com...</td>\n",
       "    </tr>\n",
       "    <tr>\n",
       "      <th>2</th>\n",
       "      <td>2</td>\n",
       "      <td>10 Shanghai</td>\n",
       "      <td>Causeway Bay</td>\n",
       "      <td>Chinese</td>\n",
       "      <td>3.2</td>\n",
       "      <td>120.0</td>\n",
       "      <td>NaN</td>\n",
       "      <td>1957 &amp; Company (...</td>\n",
       "      <td>www.openrice.com...</td>\n",
       "    </tr>\n",
       "    <tr>\n",
       "      <th>3</th>\n",
       "      <td>3</td>\n",
       "      <td>1935 Restaurant</td>\n",
       "      <td>Central</td>\n",
       "      <td>Chinese</td>\n",
       "      <td>4.8</td>\n",
       "      <td>270.0</td>\n",
       "      <td>NaN</td>\n",
       "      <td>The food is deli...</td>\n",
       "      <td>www.openrice.com...</td>\n",
       "    </tr>\n",
       "    <tr>\n",
       "      <th>4</th>\n",
       "      <td>4</td>\n",
       "      <td>1963</td>\n",
       "      <td>Wan Chai</td>\n",
       "      <td>Chinese</td>\n",
       "      <td>3.6</td>\n",
       "      <td>113.3</td>\n",
       "      <td>2.0</td>\n",
       "      <td>00This shop in W...</td>\n",
       "      <td>www.openrice.com...</td>\n",
       "    </tr>\n",
       "  </tbody>\n",
       "</table>\n",
       "</div>"
      ],
      "text/plain": [
       "   Restaurant_ID  Restaurant_Name      District   Cuisine  Rating_Average  \\\n",
       "0              0         CHIRASHI      Wan Chai  Japanese             3.7   \n",
       "1              1               X   Causeway Bay   Chinese             3.6   \n",
       "2              2      10 Shanghai  Causeway Bay   Chinese             3.2   \n",
       "3              3  1935 Restaurant       Central   Chinese             4.8   \n",
       "4              4            1963       Wan Chai   Chinese             3.6   \n",
       "\n",
       "   Cost_Average  Wait_Average              Reviews      Restaurant_Link  \n",
       "0         488.0           0.0  0Chirashi is a p...  www.openrice.com...  \n",
       "1          60.0           0.0  There are a numb...  www.openrice.com...  \n",
       "2         120.0           NaN  1957 & Company (...  www.openrice.com...  \n",
       "3         270.0           NaN  The food is deli...  www.openrice.com...  \n",
       "4         113.3           2.0  00This shop in W...  www.openrice.com...  "
      ]
     },
     "execution_count": 54,
     "metadata": {},
     "output_type": "execute_result"
    }
   ],
   "source": [
    "df.head()"
   ]
  },
  {
   "cell_type": "code",
   "execution_count": 7,
   "metadata": {},
   "outputs": [],
   "source": [
    "# df.sort_values(\"Rating_Average\",\n",
    "#                      ascending = False)"
   ]
  },
  {
   "cell_type": "markdown",
   "metadata": {},
   "source": [
    "### Tokenize"
   ]
  },
  {
   "cell_type": "code",
   "execution_count": 17,
   "metadata": {},
   "outputs": [],
   "source": [
    "from sklearn.feature_extraction.text import TfidfVectorizer\n",
    "\n",
    "tfidf = TfidfVectorizer(stop_words = \"english\")\n",
    "\n",
    "df[\"Reviews\"] = df[\"Reviews\"].fillna(\"\")\n",
    "\n",
    "tfidf_matrix = tfidf.fit_transform(df[\"Reviews\"])"
   ]
  },
  {
   "cell_type": "code",
   "execution_count": 18,
   "metadata": {},
   "outputs": [
    {
     "name": "stdout",
     "output_type": "stream",
     "text": [
      "TfidfVectorizer(analyzer='word', binary=False, decode_error='strict',\n",
      "                dtype=<class 'numpy.float64'>, encoding='utf-8',\n",
      "                input='content', lowercase=True, max_df=1.0, max_features=None,\n",
      "                min_df=1, ngram_range=(1, 1), norm='l2', preprocessor=None,\n",
      "                smooth_idf=True, stop_words='english', strip_accents=None,\n",
      "                sublinear_tf=False, token_pattern='(?u)\\\\b\\\\w\\\\w+\\\\b',\n",
      "                tokenizer=None, use_idf=True, vocabulary=None)\n"
     ]
    }
   ],
   "source": [
    "print(tfidf)"
   ]
  },
  {
   "cell_type": "code",
   "execution_count": 11,
   "metadata": {},
   "outputs": [],
   "source": [
    "# _stopwords = set(stopwords.words(\"english\") + list(punctuation))"
   ]
  },
  {
   "cell_type": "code",
   "execution_count": 15,
   "metadata": {},
   "outputs": [],
   "source": [
    "# https://intellipaat.com/community/32996/python-remove-stop-words-from-pandas-dataframe\n",
    "# df[\"Reviews\"].apply(lambda x: [i for i in x if i not in _stopwords])"
   ]
  },
  {
   "cell_type": "code",
   "execution_count": 19,
   "metadata": {},
   "outputs": [
    {
     "data": {
      "text/plain": [
       "(900, 21530)"
      ]
     },
     "execution_count": 19,
     "metadata": {},
     "output_type": "execute_result"
    }
   ],
   "source": [
    "tfidf_matrix.shape"
   ]
  },
  {
   "cell_type": "code",
   "execution_count": 20,
   "metadata": {},
   "outputs": [],
   "source": [
    "from sklearn.metrics.pairwise import linear_kernel\n",
    "\n",
    "cosine_sim = linear_kernel(tfidf_matrix, tfidf_matrix)"
   ]
  },
  {
   "cell_type": "code",
   "execution_count": 21,
   "metadata": {},
   "outputs": [
    {
     "data": {
      "text/plain": [
       "array([[1.        , 0.03966643, 0.06182234, ..., 0.02013431, 0.17051901,\n",
       "        0.08445841],\n",
       "       [0.03966643, 1.        , 0.08048414, ..., 0.02342414, 0.0413122 ,\n",
       "        0.02158762]])"
      ]
     },
     "execution_count": 21,
     "metadata": {},
     "output_type": "execute_result"
    }
   ],
   "source": [
    "cosine_sim[:2]"
   ]
  },
  {
   "cell_type": "markdown",
   "metadata": {},
   "source": [
    "### Count Vectorizer"
   ]
  },
  {
   "cell_type": "code",
   "execution_count": 25,
   "metadata": {},
   "outputs": [],
   "source": [
    "from sklearn.feature_extraction.text import CountVectorizer\n",
    "\n",
    "count = CountVectorizer(stop_words = \"english\")\n",
    "count_matrix = count.fit_transform(df[\"Reviews\"])"
   ]
  },
  {
   "cell_type": "code",
   "execution_count": 26,
   "metadata": {},
   "outputs": [],
   "source": [
    "from sklearn.metrics.pairwise import cosine_similarity\n",
    "\n",
    "cosine_sim2 = cosine_similarity(count_matrix, count_matrix)"
   ]
  },
  {
   "cell_type": "markdown",
   "metadata": {},
   "source": [
    "### Create Indices"
   ]
  },
  {
   "cell_type": "code",
   "execution_count": 41,
   "metadata": {},
   "outputs": [],
   "source": [
    "# indices = df[[\"Restaurant_ID\",\"Restaurant_Name\"]]\n",
    "\n",
    "indices = pd.Series(df.index,\n",
    "                   index = df[\"Restaurant_Name\"])"
   ]
  },
  {
   "cell_type": "code",
   "execution_count": 42,
   "metadata": {},
   "outputs": [
    {
     "data": {
      "text/plain": [
       "Restaurant_Name\n",
       " CHIRASHI          0\n",
       " X                 1\n",
       "10 Shanghai        2\n",
       "1935 Restaurant    3\n",
       "1963               4\n",
       "dtype: int64"
      ]
     },
     "execution_count": 42,
     "metadata": {},
     "output_type": "execute_result"
    }
   ],
   "source": [
    "indices.head()"
   ]
  },
  {
   "cell_type": "code",
   "execution_count": 63,
   "metadata": {},
   "outputs": [],
   "source": [
    "def get_recommendations(title, cosine_sim = cosine_sim):\n",
    "    \n",
    "    # get the index of the movie that matches the title\n",
    "    idx = indices[title]\n",
    "    \n",
    "    sim_scores = list(enumerate(cosine_sim[idx]))\n",
    "    \n",
    "    sim_scores = sorted(sim_scores,\n",
    "                       key = lambda x: x[1],\n",
    "                       reverse = True)\n",
    "    \n",
    "    sim_scores = sim_scores[1:11]\n",
    "    \n",
    "    rest_indices = [i[0] for i in sim_scores]\n",
    "    \n",
    "    return df[[\"Restaurant_Name\",\"Restaurant_Link\",\"District\",\"Rating_Average\",\"Wait_Average\"]].iloc[rest_indices]"
   ]
  },
  {
   "cell_type": "code",
   "execution_count": 60,
   "metadata": {},
   "outputs": [
    {
     "data": {
      "text/plain": [
       "Index(['Restaurant_ID', 'Restaurant_Name', 'District', 'Cuisine',\n",
       "       'Rating_Average', 'Cost_Average', 'Wait_Average', 'Reviews',\n",
       "       'Restaurant_Link'],\n",
       "      dtype='object')"
      ]
     },
     "execution_count": 60,
     "metadata": {},
     "output_type": "execute_result"
    }
   ],
   "source": [
    "df.columns"
   ]
  },
  {
   "cell_type": "code",
   "execution_count": 57,
   "metadata": {},
   "outputs": [
    {
     "data": {
      "text/plain": [
       "[(0, 0.03309188590551711),\n",
       " (1, 0.019150869506771584),\n",
       " (2, 0.04684807810359639),\n",
       " (3, 0.03401687095562646),\n",
       " (4, 0.05059584837907506)]"
      ]
     },
     "execution_count": 57,
     "metadata": {},
     "output_type": "execute_result"
    }
   ],
   "source": [
    "idx_test = indices[\"Five Guys\"]\n",
    "list(enumerate(cosine_sim[idx_test]))[:5]"
   ]
  },
  {
   "cell_type": "code",
   "execution_count": 64,
   "metadata": {},
   "outputs": [
    {
     "data": {
      "text/html": [
       "<div>\n",
       "<style scoped>\n",
       "    .dataframe tbody tr th:only-of-type {\n",
       "        vertical-align: middle;\n",
       "    }\n",
       "\n",
       "    .dataframe tbody tr th {\n",
       "        vertical-align: top;\n",
       "    }\n",
       "\n",
       "    .dataframe thead th {\n",
       "        text-align: right;\n",
       "    }\n",
       "</style>\n",
       "<table border=\"1\" class=\"dataframe\">\n",
       "  <thead>\n",
       "    <tr style=\"text-align: right;\">\n",
       "      <th></th>\n",
       "      <th>Restaurant_Name</th>\n",
       "      <th>Restaurant_Link</th>\n",
       "      <th>District</th>\n",
       "      <th>Rating_Average</th>\n",
       "      <th>Wait_Average</th>\n",
       "    </tr>\n",
       "  </thead>\n",
       "  <tbody>\n",
       "    <tr>\n",
       "      <th>73</th>\n",
       "      <td>Burger Joys</td>\n",
       "      <td>www.openrice.com/en/hongko...</td>\n",
       "      <td>Wan Chai</td>\n",
       "      <td>4.1</td>\n",
       "      <td>2.0</td>\n",
       "    </tr>\n",
       "    <tr>\n",
       "      <th>611</th>\n",
       "      <td>Shake'em Buns</td>\n",
       "      <td>www.openrice.com/en/hongko...</td>\n",
       "      <td>Central</td>\n",
       "      <td>3.6</td>\n",
       "      <td>7.0</td>\n",
       "    </tr>\n",
       "    <tr>\n",
       "      <th>295</th>\n",
       "      <td>Honbo</td>\n",
       "      <td>www.openrice.com/en/hongko...</td>\n",
       "      <td>Wan Chai</td>\n",
       "      <td>3.4</td>\n",
       "      <td>3.0</td>\n",
       "    </tr>\n",
       "    <tr>\n",
       "      <th>95</th>\n",
       "      <td>Caliburger</td>\n",
       "      <td>www.openrice.com/en/hongko...</td>\n",
       "      <td>Wan Chai</td>\n",
       "      <td>2.6</td>\n",
       "      <td>3.0</td>\n",
       "    </tr>\n",
       "    <tr>\n",
       "      <th>734</th>\n",
       "      <td>The Butchers Club</td>\n",
       "      <td>www.openrice.com/en/hongko...</td>\n",
       "      <td>Wan Chai</td>\n",
       "      <td>3.1</td>\n",
       "      <td>10.0</td>\n",
       "    </tr>\n",
       "    <tr>\n",
       "      <th>75</th>\n",
       "      <td>Burgeroom</td>\n",
       "      <td>www.openrice.com/en/hongko...</td>\n",
       "      <td>Causeway Bay</td>\n",
       "      <td>2.8</td>\n",
       "      <td>7.0</td>\n",
       "    </tr>\n",
       "    <tr>\n",
       "      <th>71</th>\n",
       "      <td>Burger Circus</td>\n",
       "      <td>www.openrice.com/en/hongko...</td>\n",
       "      <td>Central</td>\n",
       "      <td>3.6</td>\n",
       "      <td>4.0</td>\n",
       "    </tr>\n",
       "    <tr>\n",
       "      <th>72</th>\n",
       "      <td>Burger Home</td>\n",
       "      <td>www.openrice.com/en/hongko...</td>\n",
       "      <td>Wan Chai</td>\n",
       "      <td>3.8</td>\n",
       "      <td>13.0</td>\n",
       "    </tr>\n",
       "    <tr>\n",
       "      <th>250</th>\n",
       "      <td>Gourmet Burger Union</td>\n",
       "      <td>www.openrice.com/en/hongko...</td>\n",
       "      <td>Central</td>\n",
       "      <td>2.8</td>\n",
       "      <td>2.0</td>\n",
       "    </tr>\n",
       "    <tr>\n",
       "      <th>58</th>\n",
       "      <td>Beef &amp; Liberty</td>\n",
       "      <td>www.openrice.com/en/hongko...</td>\n",
       "      <td>Wan Chai</td>\n",
       "      <td>3.9</td>\n",
       "      <td>9.0</td>\n",
       "    </tr>\n",
       "  </tbody>\n",
       "</table>\n",
       "</div>"
      ],
      "text/plain": [
       "          Restaurant_Name                Restaurant_Link      District  \\\n",
       "73            Burger Joys  www.openrice.com/en/hongko...      Wan Chai   \n",
       "611         Shake'em Buns  www.openrice.com/en/hongko...       Central   \n",
       "295                 Honbo  www.openrice.com/en/hongko...      Wan Chai   \n",
       "95             Caliburger  www.openrice.com/en/hongko...      Wan Chai   \n",
       "734     The Butchers Club  www.openrice.com/en/hongko...      Wan Chai   \n",
       "75              Burgeroom  www.openrice.com/en/hongko...  Causeway Bay   \n",
       "71          Burger Circus  www.openrice.com/en/hongko...       Central   \n",
       "72            Burger Home  www.openrice.com/en/hongko...      Wan Chai   \n",
       "250  Gourmet Burger Union  www.openrice.com/en/hongko...       Central   \n",
       "58         Beef & Liberty  www.openrice.com/en/hongko...      Wan Chai   \n",
       "\n",
       "     Rating_Average  Wait_Average  \n",
       "73              4.1           2.0  \n",
       "611             3.6           7.0  \n",
       "295             3.4           3.0  \n",
       "95              2.6           3.0  \n",
       "734             3.1          10.0  \n",
       "75              2.8           7.0  \n",
       "71              3.6           4.0  \n",
       "72              3.8          13.0  \n",
       "250             2.8           2.0  \n",
       "58              3.9           9.0  "
      ]
     },
     "execution_count": 64,
     "metadata": {},
     "output_type": "execute_result"
    }
   ],
   "source": [
    "get_recommendations(\"Five Guys\", cosine_sim2)"
   ]
  }
 ],
 "metadata": {
  "kernelspec": {
   "display_name": "Python 3",
   "language": "python",
   "name": "python3"
  },
  "language_info": {
   "codemirror_mode": {
    "name": "ipython",
    "version": 3
   },
   "file_extension": ".py",
   "mimetype": "text/x-python",
   "name": "python",
   "nbconvert_exporter": "python",
   "pygments_lexer": "ipython3",
   "version": "3.7.3"
  }
 },
 "nbformat": 4,
 "nbformat_minor": 2
}
